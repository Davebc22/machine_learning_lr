{
 "cells": [
  {
   "cell_type": "markdown",
   "id": "3316f014",
   "metadata": {},
   "source": [
    "<font font face=\"TeX Gyre Pagella\" color=\"red\" size = \"4\"><b>READ.ME</b></font>\n",
    "\n",
    "<font font face=\"TeX Gyre Pagella\" size = \"4\">This book was created to demonstrate knowledge of the key external libraries used in Python for Machine Learning. You will find a series of exercises that were developed by ChatGPT, and their solutions were completed by me </font> \n"
   ]
  },
  {
   "cell_type": "code",
   "execution_count": 59,
   "id": "1cada7ba",
   "metadata": {},
   "outputs": [],
   "source": [
    "import pandas as pd\n",
    "import numpy as np\n",
    "import matplotlib.pyplot as plt"
   ]
  },
  {
   "cell_type": "markdown",
   "id": "0c941c92",
   "metadata": {},
   "source": [
    "<font font face=\"TeX Gyre Pagella\" size = \"4\">Let's suppose we have set of data grouped by Name, Age and Score in a Spanish Test </font>"
   ]
  },
  {
   "cell_type": "code",
   "execution_count": 60,
   "id": "ae193753",
   "metadata": {},
   "outputs": [
    {
     "data": {
      "text/html": [
       "<div>\n",
       "<style scoped>\n",
       "    .dataframe tbody tr th:only-of-type {\n",
       "        vertical-align: middle;\n",
       "    }\n",
       "\n",
       "    .dataframe tbody tr th {\n",
       "        vertical-align: top;\n",
       "    }\n",
       "\n",
       "    .dataframe thead th {\n",
       "        text-align: right;\n",
       "    }\n",
       "</style>\n",
       "<table border=\"1\" class=\"dataframe\">\n",
       "  <thead>\n",
       "    <tr style=\"text-align: right;\">\n",
       "      <th></th>\n",
       "      <th>Nombre</th>\n",
       "      <th>Edad</th>\n",
       "      <th>Puntuación</th>\n",
       "    </tr>\n",
       "  </thead>\n",
       "  <tbody>\n",
       "    <tr>\n",
       "      <th>0</th>\n",
       "      <td>Alice</td>\n",
       "      <td>20</td>\n",
       "      <td>85</td>\n",
       "    </tr>\n",
       "    <tr>\n",
       "      <th>1</th>\n",
       "      <td>Bob</td>\n",
       "      <td>22</td>\n",
       "      <td>90</td>\n",
       "    </tr>\n",
       "    <tr>\n",
       "      <th>2</th>\n",
       "      <td>Charlie</td>\n",
       "      <td>21</td>\n",
       "      <td>78</td>\n",
       "    </tr>\n",
       "    <tr>\n",
       "      <th>3</th>\n",
       "      <td>David</td>\n",
       "      <td>23</td>\n",
       "      <td>92</td>\n",
       "    </tr>\n",
       "    <tr>\n",
       "      <th>4</th>\n",
       "      <td>Eve</td>\n",
       "      <td>19</td>\n",
       "      <td>88</td>\n",
       "    </tr>\n",
       "  </tbody>\n",
       "</table>\n",
       "</div>"
      ],
      "text/plain": [
       "    Nombre  Edad  Puntuación\n",
       "0    Alice    20          85\n",
       "1      Bob    22          90\n",
       "2  Charlie    21          78\n",
       "3    David    23          92\n",
       "4      Eve    19          88"
      ]
     },
     "execution_count": 60,
     "metadata": {},
     "output_type": "execute_result"
    }
   ],
   "source": [
    "data = {\n",
    "    'Nombre': ['Alice', 'Bob', 'Charlie', 'David', 'Eve'],\n",
    "    'Edad': [20, 22, 21, 23, 19],\n",
    "    'Puntuación': [85, 90, 78, 92, 88] \n",
    "}\n",
    "\n",
    "df = pd.DataFrame(data)\n",
    "df"
   ]
  },
  {
   "cell_type": "markdown",
   "id": "acbf4dbc",
   "metadata": {},
   "source": [
    "<font face=\"TeX Gyre Pagella\" size=\"4\"><b>Exercise 1:</b> Display the first 3 rows of the DataFrame df.</font>\n",
    " "
   ]
  },
  {
   "cell_type": "code",
   "execution_count": 61,
   "id": "54b1a67b",
   "metadata": {},
   "outputs": [
    {
     "data": {
      "text/html": [
       "<div>\n",
       "<style scoped>\n",
       "    .dataframe tbody tr th:only-of-type {\n",
       "        vertical-align: middle;\n",
       "    }\n",
       "\n",
       "    .dataframe tbody tr th {\n",
       "        vertical-align: top;\n",
       "    }\n",
       "\n",
       "    .dataframe thead th {\n",
       "        text-align: right;\n",
       "    }\n",
       "</style>\n",
       "<table border=\"1\" class=\"dataframe\">\n",
       "  <thead>\n",
       "    <tr style=\"text-align: right;\">\n",
       "      <th></th>\n",
       "      <th>Nombre</th>\n",
       "      <th>Edad</th>\n",
       "      <th>Puntuación</th>\n",
       "    </tr>\n",
       "  </thead>\n",
       "  <tbody>\n",
       "    <tr>\n",
       "      <th>0</th>\n",
       "      <td>Alice</td>\n",
       "      <td>20</td>\n",
       "      <td>85</td>\n",
       "    </tr>\n",
       "    <tr>\n",
       "      <th>1</th>\n",
       "      <td>Bob</td>\n",
       "      <td>22</td>\n",
       "      <td>90</td>\n",
       "    </tr>\n",
       "    <tr>\n",
       "      <th>2</th>\n",
       "      <td>Charlie</td>\n",
       "      <td>21</td>\n",
       "      <td>78</td>\n",
       "    </tr>\n",
       "  </tbody>\n",
       "</table>\n",
       "</div>"
      ],
      "text/plain": [
       "    Nombre  Edad  Puntuación\n",
       "0    Alice    20          85\n",
       "1      Bob    22          90\n",
       "2  Charlie    21          78"
      ]
     },
     "execution_count": 61,
     "metadata": {},
     "output_type": "execute_result"
    }
   ],
   "source": [
    "df [0:3]"
   ]
  },
  {
   "cell_type": "markdown",
   "id": "d46ee6c8",
   "metadata": {},
   "source": [
    "<font face=\"TeX Gyre Pagella\" size=\"4\"><b>Exercise 2:</b> Calculate the average age of the students.</font>"
   ]
  },
  {
   "cell_type": "code",
   "execution_count": 62,
   "id": "317babfb",
   "metadata": {
    "scrolled": true
   },
   "outputs": [
    {
     "name": "stdout",
     "output_type": "stream",
     "text": [
      "Average age = 21.0\n"
     ]
    }
   ],
   "source": [
    "serie = data['Edad']\n",
    "serie = pd.Series(serie)\n",
    "print(f'Average age = {serie.mean()}')"
   ]
  },
  {
   "cell_type": "markdown",
   "id": "36de0f34",
   "metadata": {},
   "source": [
    "<font face=\"TeX Gyre Pagella\" size=\"4\"><b>Exercise 3:</b> Find the student with the highest score and display their name and score.</font>"
   ]
  },
  {
   "cell_type": "code",
   "execution_count": 63,
   "id": "9f063973",
   "metadata": {},
   "outputs": [
    {
     "data": {
      "text/plain": [
       "Nombre        David\n",
       "Edad             23\n",
       "Puntuación       92\n",
       "Name: 3, dtype: object"
      ]
     },
     "execution_count": 63,
     "metadata": {},
     "output_type": "execute_result"
    }
   ],
   "source": [
    "puntuacion_maxima = df['Puntuación'].idxmax()\n",
    "fila_maxima = df.loc[puntuacion_maxima]\n",
    "fila_maxima"
   ]
  },
  {
   "cell_type": "markdown",
   "id": "fa12cf0b",
   "metadata": {},
   "source": [
    "<font face=\"TeX Gyre Pagella\" size=\"4\"><b>Exercise 4:</b> Draw a bar chart that displays each student's score. Label the axes appropriately.</font>"
   ]
  },
  {
   "cell_type": "code",
   "execution_count": 86,
   "id": "c0eca006",
   "metadata": {
    "scrolled": true
   },
   "outputs": [
    {
     "data": {
      "image/png": "[encoded data removed]",
      "text/plain": [
       "<Figure size 500x300 with 1 Axes>"
      ]
     },
     "metadata": {},
     "output_type": "display_data"
    }
   ],
   "source": [
    "nombre = df['Nombre']\n",
    "puntuacion = df['Puntuación']\n",
    "edades = df['Edad']\n",
    "plt.figure(figsize=(5, 3))\n",
    "plt.bar(nombre, puntuacion)\n",
    "plt.title('Puntuación Prueba de Español')\n",
    "plt.xlabel('Nombre')\n",
    "plt.ylabel('Puntuación')\n",
    "plt.show()"
   ]
  },
  {
   "cell_type": "markdown",
   "id": "3b526b21",
   "metadata": {},
   "source": [
    "<font face=\"TeX Gyre Pagella\" size=\"4\"><b>Exercise 5:</b> Draw a scatter plot that displays the relationship between the age and the students' scores. Label the axes and add a legend.</font>\n",
    "\n"
   ]
  },
  {
   "cell_type": "code",
   "execution_count": 88,
   "id": "24a40245",
   "metadata": {},
   "outputs": [
    {
     "data": {
      "image/png": "[encoded data removed]",
      "text/plain": [
       "<Figure size 640x480 with 1 Axes>"
      ]
     },
     "metadata": {},
     "output_type": "display_data"
    }
   ],
   "source": [
    "plt.scatter(edades, puntuacion)\n",
    "plt.title('Relación Edad y Puntuación')\n",
    "plt.xlabel('Edad')\n",
    "plt.ylabel('Puntuación')\n",
    "plt.legend(['Relación'])\n",
    "plt.show()"
   ]
  },
  {
   "cell_type": "code",
   "execution_count": null,
   "id": "adf5c36d",
   "metadata": {},
   "outputs": [],
   "source": []
  }
 ],
 "metadata": {
  "kernelspec": {
   "display_name": "Python 3 (ipykernel)",
   "language": "python",
   "name": "python3"
  },
  "language_info": {
   "codemirror_mode": {
    "name": "ipython",
    "version": 3
   },
   "file_extension": ".py",
   "mimetype": "text/x-python",
   "name": "python",
   "nbconvert_exporter": "python",
   "pygments_lexer": "ipython3",
   "version": "3.11.5"
  }
 },
 "nbformat": 4,
 "nbformat_minor": 5
}
